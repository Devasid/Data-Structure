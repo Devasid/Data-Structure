{
  "nbformat": 4,
  "nbformat_minor": 0,
  "metadata": {
    "colab": {
      "provenance": []
    },
    "kernelspec": {
      "name": "python3",
      "display_name": "Python 3"
    },
    "language_info": {
      "name": "python"
    }
  },
  "cells": [
    {
      "cell_type": "markdown",
      "source": [
        "Assignment 2: Data Types and Structures"
      ],
      "metadata": {
        "id": "01MOH0wbEQm-"
      }
    },
    {
      "cell_type": "markdown",
      "source": [
        " 1. What are data structures, and why are they important ?\n",
        "   >Data structures are organized ways to store, manage, and retrieve data efficiently in a computer.\n",
        "\n",
        "   >Importance of Data Structure :\n",
        "\n",
        " >>Efficient Data Management :Help organize large amounts of data so it's easy to access and modify.\n",
        "\n",
        " >>Faster Searching & Sorting: Certain data structures allow faster operations.\n",
        "\n",
        " >>Memory Optimization: Help reduce memory usage by using optimal storage formats.\n",
        "\n",
        " >>Foundation for Algorithms: Most algorithms rely on data structures to work correctly and\n",
        " efficiently.\n",
        "\n",
        " >>Real-world Problem Solving: Useful in tasks like file systems, databases, social networks, etc.\n",
        "\n",
        " >>Helps in Decision Making: Choosing the right data structure can improve performance drastically.\n",
        "\n",
        " >Examples: List,tuple,sets"
      ],
      "metadata": {
        "id": "N9EQqzDbEZbP"
      }
    },
    {
      "cell_type": "markdown",
      "source": [
        "2. Explain the difference between mutable and immutable data types with examples"
      ],
      "metadata": {
        "id": "mO8FY7ez1f5u"
      }
    },
    {
      "cell_type": "markdown",
      "source": [
        " >Mutable:\n",
        "\n",
        " >>Objects that can be changed after they are created.\n",
        "\n",
        " >>No new memory location is created.\n",
        "\n",
        " >>Example :list, dict, set"
      ],
      "metadata": {
        "id": "T3TL--n1EzHz"
      }
    },
    {
      "cell_type": "code",
      "source": [
        " # Example of Mutable\n",
        " my_list = [100,200,300]\n",
        " my_list[0] = 10\n",
        " print(my_list)"
      ],
      "metadata": {
        "colab": {
          "base_uri": "https://localhost:8080/"
        },
        "id": "sFi7IRjV2UOv",
        "outputId": "eff1722c-e528-4817-b73a-a776d8308c01"
      },
      "execution_count": null,
      "outputs": [
        {
          "output_type": "stream",
          "name": "stdout",
          "text": [
            "[10, 200, 300]\n"
          ]
        }
      ]
    },
    {
      "cell_type": "markdown",
      "source": [
        " >Immutable:\n",
        " >>Objects that cannot be changed after they are created.\n",
        "\n",
        " >>Creation of new memory location at any changes\n",
        "\n",
        " >Examples: int, float, str, tuple."
      ],
      "metadata": {
        "id": "SEN2JwEy2keS"
      }
    },
    {
      "cell_type": "code",
      "source": [
        " # Example of immutable\n",
        " t = (1, 2, 3)\n",
        " t[0] = 10\n",
        " print(t) #This will raise a TypeError"
      ],
      "metadata": {
        "colab": {
          "base_uri": "https://localhost:8080/",
          "height": 193
        },
        "id": "SXpXMUiF2weP",
        "outputId": "97aa5528-b46b-4f53-9db0-3593bc95e0ed"
      },
      "execution_count": null,
      "outputs": [
        {
          "output_type": "error",
          "ename": "TypeError",
          "evalue": "'tuple' object does not support item assignment",
          "traceback": [
            "\u001b[0;31m---------------------------------------------------------------------------\u001b[0m",
            "\u001b[0;31mTypeError\u001b[0m                                 Traceback (most recent call last)",
            "\u001b[0;32m/tmp/ipython-input-2714180476.py\u001b[0m in \u001b[0;36m<cell line: 0>\u001b[0;34m()\u001b[0m\n\u001b[1;32m      1\u001b[0m \u001b[0;31m# Example of immutable\u001b[0m\u001b[0;34m\u001b[0m\u001b[0;34m\u001b[0m\u001b[0m\n\u001b[1;32m      2\u001b[0m \u001b[0mt\u001b[0m \u001b[0;34m=\u001b[0m \u001b[0;34m(\u001b[0m\u001b[0;36m1\u001b[0m\u001b[0;34m,\u001b[0m \u001b[0;36m2\u001b[0m\u001b[0;34m,\u001b[0m \u001b[0;36m3\u001b[0m\u001b[0;34m)\u001b[0m\u001b[0;34m\u001b[0m\u001b[0;34m\u001b[0m\u001b[0m\n\u001b[0;32m----> 3\u001b[0;31m \u001b[0mt\u001b[0m\u001b[0;34m[\u001b[0m\u001b[0;36m0\u001b[0m\u001b[0;34m]\u001b[0m \u001b[0;34m=\u001b[0m \u001b[0;36m10\u001b[0m\u001b[0;34m\u001b[0m\u001b[0;34m\u001b[0m\u001b[0m\n\u001b[0m\u001b[1;32m      4\u001b[0m \u001b[0mprint\u001b[0m\u001b[0;34m(\u001b[0m\u001b[0mt\u001b[0m\u001b[0;34m)\u001b[0m \u001b[0;31m#This will raise a TypeError\u001b[0m\u001b[0;34m\u001b[0m\u001b[0;34m\u001b[0m\u001b[0m\n",
            "\u001b[0;31mTypeError\u001b[0m: 'tuple' object does not support item assignment"
          ]
        }
      ]
    },
    {
      "cell_type": "markdown",
      "source": [
        " 3. What are the main differences between lists and tuples in Python ?"
      ],
      "metadata": {
        "id": "xWGiKhZH3QTS"
      }
    },
    {
      "cell_type": "markdown",
      "source": [
        ">Difference between List and tuple\n",
        "\n",
        ">> 1. Mutability:Lists are mutable whereas tuples are immutable.\n",
        " This means you can change, add, or remove elements in a list, but you cannot modify a tuple after it's created.\n",
        "\n",
        " >>2. Syntax: Lists use square brackets [ ], whereas tuples use parentheses ( ).\n",
        " This means you define a list like [1, 2, 3] and a tuple like (1, 2, 3).\n",
        "\n",
        " >>3. Methods Available: Lists have many built-in methods, whereas *tuples *have very few.\n",
        " This means you can modify a list using methods like append(), pop(), or sort(), but tuples only support count()\n",
        " and index().\n",
        "\n",
        " >>4. Performance: Tuples are faster in performance than** lists**\n",
        "  This is because tuples are immutable and require less overhead, making them more efficient in fixed-size data\n",
        " operations.\n",
        "\n",
        " >>5. Memory Usage: Tuples use less memory than lists.\n",
        " Since tuples are fixed in size, they consume less memory than dynamic lists.\n",
        "\n",
        " >>6. Use Case: Lists are used when data can change, whereas tuples are used for fixed data.\n",
        " This means use lists for dynamic operations, and tuples when you want to protect data from modification."
      ],
      "metadata": {
        "id": "xyvA5S9M3Wly"
      }
    },
    {
      "cell_type": "markdown",
      "source": [
        " 4. Describe how dictionaries store data"
      ],
      "metadata": {
        "id": "JpmeQqbA5oUD"
      }
    },
    {
      "cell_type": "markdown",
      "source": [
        "> A dictionary in Python is a collection of key-value pairs, where each key is unique and is used to access its corresponding\n",
        " value\n",
        "\n",
        ">Dictionaries store data:\n",
        ">> A dictionary stores data as key-value pairs.\n",
        "\n",
        ">>The key is used to identify the data.\n",
        "\n",
        ">>The value is the data associated with that key.\n",
        "\n",
        ">>It allows for quick access, update, and deletion of data using keys"
      ],
      "metadata": {
        "id": "Rk9PhbAV5qpx"
      }
    },
    {
      "cell_type": "markdown",
      "source": [
        " 5. Why might you use a set instead of a list in Python ?"
      ],
      "metadata": {
        "id": "DPnQUYtj6LFk"
      }
    },
    {
      "cell_type": "markdown",
      "source": [
        "> Reasons to use set instead of list\n",
        "\n",
        ">> 1. No duplicate elements : A set automatically removes duplicates, while a list can store them.\n",
        "\n",
        ">>2. Faster lookups : Checking if an element exists in a set (in operation) is generally O(1), compared to O(n) for a list.\n",
        "\n",
        ">> 3. Unordered collection : If you don’t care about the order of elements, sets are more efficient.\n",
        "\n",
        ">>4. Mathematical operations : Sets support union, intersection, and difference operations directly.\n",
        "\n",
        ">>5. Better for uniqueness checks : When you need only unique items, sets avoid manual duplicate removal"
      ],
      "metadata": {
        "id": "REgD3oGw6QAA"
      }
    },
    {
      "cell_type": "markdown",
      "source": [
        " 6. What is a string in Python, and how is it different from a list"
      ],
      "metadata": {
        "id": "cGqYr5Zt8E1p"
      }
    },
    {
      "cell_type": "markdown",
      "source": [
        "> String: A string is a sequence of characters. Python treats anything inside quotes as a string. This includes letters, numbers,\n",
        " and symbols. Python has no character data type so single character is a string of length 1.\n",
        "\n",
        ">String different from list\n",
        "\n",
        ">> 1. Data Type : A string stores only characters, while a list can store elements of any data type (numbers,\n",
        " strings, objects, etc.).\n",
        "\n",
        ">>2. Mutability : Strings are immutable, whereas lists are mutable .\n",
        "\n",
        ">>3. Element Type : Strings can contain only characters, but lists can have mixed data types.\n",
        "\n",
        ">>4. Modification : You cannot directly change a character in a string, but you can change, add, or remove\n",
        " elements in a list.\n",
        "\n",
        ">>5. Operations : Strings have text-specific methods (upper(), replace(), split()), while lists have collection\n",
        "specific methods (append(), remove(), sort()).\n",
        ">>6. Representation : Strings are written inside quotes (' ', \" \"), while lists are written inside square brackets [ ].\n",
        ">>7. Usage : Strings are used for text data, while lists are used for storing a sequence of items."
      ],
      "metadata": {
        "id": "NvvAgi5D8GFT"
      }
    },
    {
      "cell_type": "markdown",
      "source": [
        "7. How do tuples ensure data integrity in Python ?"
      ],
      "metadata": {
        "id": "ZbKJGN4t8kub"
      }
    },
    {
      "cell_type": "markdown",
      "source": [
        " >Tuples ensure data integrity in Python mainly because they are immutable.\n",
        "\n",
        " >Other reasons tuples ensure data integrity\n",
        "\n",
        ">> 1. Prevents accidental changes : Since tuples can’t be modified, your data stays exactly as it was when created.\n",
        "\n",
        ">> 2. Reliable as constants : Tuples can store fixed data (like configuration values) that must remain the same throughout the\n",
        " program.\n",
        "\n",
        ">> 3. Safe for keys in dictionaries : Their immutability allows them to be used as dictionary keys or stored in sets without risk\n",
        " of being altered.\n",
        "\n",
        ">>4. Predictable behavior : No unexpected changes in tuple data make debugging and tracking logic easier.\n",
        "\n",
        ">>5. Thread-safety : In multi-threaded programs, immutable data structures like tuples reduce the chance of data corruption\n",
        " from concurrent modifications"
      ],
      "metadata": {
        "id": "dU0ue49C8rmH"
      }
    },
    {
      "cell_type": "markdown",
      "source": [
        " 8. What is a hash table, and how does it relate to dictionaries in Python ?"
      ],
      "metadata": {
        "id": "dvsaO_6L9Kl_"
      }
    },
    {
      "cell_type": "markdown",
      "source": [
        "> A hash table is a data structure that stores key–value pairs and uses a hash function to map each key to a specific index\n",
        " (bucket) in memory.\n",
        "\n",
        "> Relation of Hashtable to dictionaries :\n",
        "\n",
        ">> 1. In Python, a dictionary (dict) is implemented using a hash table.\n",
        "\n",
        ">>2. Keys in a dictionary are hashed internally, and their hash values decide where the corresponding values are\n",
        " stored in memory.\n",
        "\n",
        ">>3. Only immutable and hashable objects can be used as dictionary keys.\n",
        "\n",
        ">>4. Hash tables let dictionaries perform very fast lookups, even with large amounts of data"
      ],
      "metadata": {
        "id": "iI96sLSB9MKp"
      }
    },
    {
      "cell_type": "code",
      "source": [
        " my_dict = {\"name\": \"Devansh\", \"age\": 21}\n",
        " # \"name\" is hashed internally → value 21 stored at a memory bucket\n",
        " print(my_dict[\"name\"])  # Output: Devansh"
      ],
      "metadata": {
        "colab": {
          "base_uri": "https://localhost:8080/"
        },
        "id": "LYriTmpJ9eQC",
        "outputId": "09e17104-7351-4ddb-acbb-7f6f42328a59"
      },
      "execution_count": null,
      "outputs": [
        {
          "output_type": "stream",
          "name": "stdout",
          "text": [
            "Devansh\n"
          ]
        }
      ]
    },
    {
      "cell_type": "markdown",
      "source": [
        "9. Can lists contain different data types in Python ?"
      ],
      "metadata": {
        "id": "ZUMDTMGS-B0W"
      }
    },
    {
      "cell_type": "markdown",
      "source": [
        "> Yes, lists in Python can contain different data types in the same list.\n",
        "\n",
        ">A list can hold integers, floats, strings, booleans, objects, even other lists — all mixed together.\n",
        "\n",
        ">This is possible because Python lists are dynamic and store references to objects, not fixed-type elements."
      ],
      "metadata": {
        "id": "wEpxtkA5-LQV"
      }
    },
    {
      "cell_type": "code",
      "source": [
        " my_list = [10, \"Hello PW Team\", 3.14, True, [1, 2, 3]]\n",
        " print(my_list)"
      ],
      "metadata": {
        "colab": {
          "base_uri": "https://localhost:8080/"
        },
        "id": "8uHaKkYs-Ufz",
        "outputId": "16509b01-0516-4f7c-8c20-e3dc29200f97"
      },
      "execution_count": 1,
      "outputs": [
        {
          "output_type": "stream",
          "name": "stdout",
          "text": [
            "[10, 'Hello PW Team', 3.14, True, [1, 2, 3]]\n"
          ]
        }
      ]
    },
    {
      "cell_type": "markdown",
      "source": [
        " 10. Explain why strings are immutable in Python"
      ],
      "metadata": {
        "id": "1XLUJz_9-c6u"
      }
    },
    {
      "cell_type": "markdown",
      "source": [
        "> Reasons String are immutable:\n",
        "\n",
        ">>1. Memory efficiency : Immutability allows Python to reuse identical string objects (string interning), saving memory.\n",
        "\n",
        ">>2. Hash consistency : Strings must stay unchanged so their hash value remains constant when used as dictionary or set\n",
        " keys.\n",
        "\n",
        ">>3. Thread-safety : Because strings can’t be modified, they can be shared between threads without risk of corruption.\n",
        "\n",
        ">>4. Predictable behavior : Fixed, unchangeable strings prevent accidental changes, making code more reliable.\n",
        "\n",
        ">>5. Performance optimization : Immutable strings can be stored and accessed in a way that speeds up certain operations."
      ],
      "metadata": {
        "id": "PfWkCsiy-e7j"
      }
    },
    {
      "cell_type": "markdown",
      "source": [
        "11. What advantages do dictionaries offer over lists for certain tasks ?"
      ],
      "metadata": {
        "id": "vLtJY2aj-wUO"
      }
    },
    {
      "cell_type": "markdown",
      "source": [
        "> Advantages do dictionaries offer over lists for certain tasks are:\n",
        "\n",
        ">>1. Faster lookups : Dictionaries provide average O(1) time complexity for accessing values by key, while lists take O(n) for\n",
        " searches.\n",
        "\n",
        ">>2. Key-based access : You can access data using meaningful keys instead of relying on numeric indexes.\n",
        "\n",
        ">>3. No need for manual searching : Values are retrieved directly by key without iterating through the entire collection.\n",
        "\n",
        ">>4. Unordered but organized : Data is stored in a way that’s easy to manage when you care about associations rather than\n",
        " order.\n",
        "\n",
        ">>5. Flexible keys and values : Keys can be any immutable type (string, number, tuple), and values can be any data type.\n",
        "\n",
        ">>6. Clear mapping of data : Perfect for storing real-world data with a clear “label → value” relationship.\n"
      ],
      "metadata": {
        "id": "8dqfU5YL-zmY"
      }
    },
    {
      "cell_type": "code",
      "source": [
        "#List of [name, phone] pairs\n",
        "contacts_list = [[\"Devansh\", \"1234\"], [\"Harsh\", \"5678\"], [\"Priyansh\", \"9101\"]]\n",
        "#Find Devansh's number\n",
        "for name, phone in contacts_list:\n",
        "    if name == \"Devansh\":\n",
        "     print(phone)  # Output: 1234\n",
        "     break\n",
        "\n",
        "#Dictionary of name: phone pairs\n",
        "contacts_dict = {\"Devansh\": \"1234\", \"Harsh\": \"5678\", \"Priyansh\": \"9101\"}\n",
        "\n",
        "#Find Devansh's number\n",
        "print(contacts_dict[\"Devansh\"])  # Output: 1234"
      ],
      "metadata": {
        "colab": {
          "base_uri": "https://localhost:8080/"
        },
        "id": "nCEMBQBVopC_",
        "outputId": "875eed44-aa53-4439-912e-5d2631e9a777"
      },
      "execution_count": 3,
      "outputs": [
        {
          "output_type": "stream",
          "name": "stdout",
          "text": [
            "1234\n",
            "1234\n"
          ]
        }
      ]
    },
    {
      "cell_type": "markdown",
      "source": [
        "12. Describe a scenario where using a tuple would be preferable over a list."
      ],
      "metadata": {
        "id": "iDNwPYCf9obu"
      }
    },
    {
      "cell_type": "markdown",
      "source": [
        ">Scenario:\n",
        "\n",
        ">> Storing fixed GPS coordinates of a city in a program\n",
        "\n",
        "Example\n",
        "\n",
        " #Latitude and Longitude of New York\n",
        " new_york_coordinates = (40.7128, -74.0060)\n",
        "\n",
        " > Why tuple is preferable\n",
        "\n",
        ">> 1. The coordinates should never change during the program’s execution\n",
        "→ tuples are immutable, ensuring data integrity.\n",
        "\n",
        ">>2. Tuples can be used as dictionary keys if you need to store location-based data (lists cannot be keys).\n",
        "\n",
        ">>3. Slightly faster than lists for access, making them efficient for fixed datasets."
      ],
      "metadata": {
        "id": "IGvuoCt89wZR"
      }
    },
    {
      "cell_type": "markdown",
      "source": [
        " 13. How do sets handle duplicate values in Python ?"
      ],
      "metadata": {
        "id": "ZzFMgfmI-dcO"
      }
    },
    {
      "cell_type": "markdown",
      "source": [
        "> Sets automatically remove duplicate values because they only store unique elements.\n",
        "\n",
        ">When you try to add a duplicate to a set, Python ignores it silently.\n",
        "\n",
        ">This is possible because sets use a hash table internally, where each element’s hash value must be unique"
      ],
      "metadata": {
        "id": "fnt9mRlU-DuY"
      }
    },
    {
      "cell_type": "code",
      "source": [
        " my_set = {1, 2, 2, 3, 3, 3, 4, 4, 4, 4}\n",
        " print(my_set)"
      ],
      "metadata": {
        "colab": {
          "base_uri": "https://localhost:8080/"
        },
        "id": "oALfPzLG-tG3",
        "outputId": "eeac7ad1-4b86-4e32-d721-99d0a9b46876"
      },
      "execution_count": 4,
      "outputs": [
        {
          "output_type": "stream",
          "name": "stdout",
          "text": [
            "{1, 2, 3, 4}\n"
          ]
        }
      ]
    },
    {
      "cell_type": "markdown",
      "source": [
        "14. How does the “in” keyword work differently for lists and dictionaries ?"
      ],
      "metadata": {
        "id": "MBhUMbbz-4vl"
      }
    },
    {
      "cell_type": "markdown",
      "source": [
        "> The in keyword behaves differently for lists and dictionaries in Python:\n",
        "\n",
        ">1.For lists \"in\" checks if a value exists anywhere in the list."
      ],
      "metadata": {
        "id": "QZ-yYTXu-79e"
      }
    },
    {
      "cell_type": "code",
      "source": [
        " numbers = [1, 2, 3, 4]\n",
        " print(3 in numbers)   #(checks values)\n",
        " print(5 in numbers)"
      ],
      "metadata": {
        "colab": {
          "base_uri": "https://localhost:8080/"
        },
        "id": "qd6J9gxp_2dT",
        "outputId": "507efae5-6772-431c-fb28-11855d409ec5"
      },
      "execution_count": null,
      "outputs": [
        {
          "output_type": "stream",
          "name": "stdout",
          "text": [
            "True\n",
            "False\n"
          ]
        }
      ]
    },
    {
      "cell_type": "markdown",
      "source": [
        ">2.For dictionaries – in checks if a key exists in the dictionary (not the value)"
      ],
      "metadata": {
        "id": "DzpfKeJiAFJ5"
      }
    },
    {
      "cell_type": "code",
      "source": [
        " person = {\"name\": \"Devansh\", \"age\": 21}\n",
        " print(\"name\" in person)   #  checks keys\n",
        " print(\"Devansh\" in person)  # does not check values"
      ],
      "metadata": {
        "colab": {
          "base_uri": "https://localhost:8080/"
        },
        "id": "i8Ggf0idAJ2V",
        "outputId": "b6d0768a-63ed-42a3-b09a-5f3273e334f8"
      },
      "execution_count": 7,
      "outputs": [
        {
          "output_type": "stream",
          "name": "stdout",
          "text": [
            "True\n",
            "False\n"
          ]
        }
      ]
    },
    {
      "cell_type": "markdown",
      "source": [
        "15. Can you modify the elements of a tuple? Explain why or why not"
      ],
      "metadata": {
        "id": "78R1S0oYAThX"
      }
    },
    {
      "cell_type": "markdown",
      "source": [
        " >No we cannot modify the elements of a tuple in Python.\n",
        "\n",
        " >Reason\n",
        "\n",
        ">>1. Tuples are immutable, meaning once they are created, their elements cannot be changed, added, or removed.\n",
        "\n",
        ">>2. This immutability ensures data integrity, allows tuples to be used as dictionary keys or stored in sets, and makes them\n",
        " more memory-efficient and thread-safe."
      ],
      "metadata": {
        "id": "yWTELPMqAZV7"
      }
    },
    {
      "cell_type": "code",
      "source": [
        " t = (1, 2, 3)\n",
        " t[0] = 10 # TypeError: 'tuple' object does not support item assignment"
      ],
      "metadata": {
        "colab": {
          "base_uri": "https://localhost:8080/",
          "height": 158
        },
        "id": "pfcrLZPSAx8o",
        "outputId": "a4721f8f-d5d7-42de-879f-4214d933d3be"
      },
      "execution_count": null,
      "outputs": [
        {
          "output_type": "error",
          "ename": "TypeError",
          "evalue": "'tuple' object does not support item assignment",
          "traceback": [
            "\u001b[0;31m---------------------------------------------------------------------------\u001b[0m",
            "\u001b[0;31mTypeError\u001b[0m                                 Traceback (most recent call last)",
            "\u001b[0;32m/tmp/ipython-input-117001329.py\u001b[0m in \u001b[0;36m<cell line: 0>\u001b[0;34m()\u001b[0m\n\u001b[1;32m      1\u001b[0m \u001b[0mt\u001b[0m \u001b[0;34m=\u001b[0m \u001b[0;34m(\u001b[0m\u001b[0;36m1\u001b[0m\u001b[0;34m,\u001b[0m \u001b[0;36m2\u001b[0m\u001b[0;34m,\u001b[0m \u001b[0;36m3\u001b[0m\u001b[0;34m)\u001b[0m\u001b[0;34m\u001b[0m\u001b[0;34m\u001b[0m\u001b[0m\n\u001b[0;32m----> 2\u001b[0;31m \u001b[0mt\u001b[0m\u001b[0;34m[\u001b[0m\u001b[0;36m0\u001b[0m\u001b[0;34m]\u001b[0m \u001b[0;34m=\u001b[0m \u001b[0;36m10\u001b[0m \u001b[0;31m# TypeError: 'tuple' object does not support item assignment\u001b[0m\u001b[0;34m\u001b[0m\u001b[0;34m\u001b[0m\u001b[0m\n\u001b[0m",
            "\u001b[0;31mTypeError\u001b[0m: 'tuple' object does not support item assignment"
          ]
        }
      ]
    },
    {
      "cell_type": "markdown",
      "source": [
        " 16. What is a nested dictionary, and give an example of its use case ?"
      ],
      "metadata": {
        "id": "Ckfup_ThA07t"
      }
    },
    {
      "cell_type": "markdown",
      "source": [
        "> Nested Dictionary\n",
        "\n",
        ">>1. A nested dictionary is a dictionary that contains another dictionary as one or more of its values.\n",
        "\n",
        ">>2. It’s used to store hierarchical or structured data in a compact, organized way"
      ],
      "metadata": {
        "id": "ss-oznaLA3Lb"
      }
    },
    {
      "cell_type": "code",
      "source": [
        "# Example of usecase\n",
        "students = {\n",
        " \"Devansh\": {\"age\": 20, \"marks\": {\"English\": 90, \"Science\": 85}},\n",
        " \"Harsh\": {\"age\": 22, \"marks\": {\"English\": 78, \"Science\": 88}}\n",
        " }\n",
        "  # Access Devansh's Science marks\n",
        "print(students[\"Devansh\"][\"marks\"][\"Science\"])\n"
      ],
      "metadata": {
        "colab": {
          "base_uri": "https://localhost:8080/"
        },
        "id": "ebSpPFfmBb7G",
        "outputId": "1cb26cc1-63fe-4d12-a26d-9bd3467423dc"
      },
      "execution_count": 8,
      "outputs": [
        {
          "output_type": "stream",
          "name": "stdout",
          "text": [
            "85\n"
          ]
        }
      ]
    },
    {
      "cell_type": "markdown",
      "source": [
        "17. Describe the time complexity of accessing elements in a dictionary."
      ],
      "metadata": {
        "id": "W9UB-ObXCTch"
      }
    },
    {
      "cell_type": "markdown",
      "source": [
        "> Accessing elements in a dictionary in Python has\n",
        "\n",
        ">> 1. Average case: O(1) : Constant time, because dictionaries use a hash table for key lookups.\n",
        "\n",
        ">>2. Worst case: O(n) : Happens rarely, only when many keys have the same hash value (hash collision) and Python has to\n",
        " search through them linearly."
      ],
      "metadata": {
        "id": "pNdoKep-CYZP"
      }
    },
    {
      "cell_type": "code",
      "source": [
        " person = {\"name\": \"Devansh\", \"age\": 21}\n",
        " print(person[\"age\"])  # O(1) average time"
      ],
      "metadata": {
        "colab": {
          "base_uri": "https://localhost:8080/"
        },
        "id": "1a0Fu_CqCfAb",
        "outputId": "cee0597a-4166-4a98-f23d-457a4786ad70"
      },
      "execution_count": 9,
      "outputs": [
        {
          "output_type": "stream",
          "name": "stdout",
          "text": [
            "21\n"
          ]
        }
      ]
    },
    {
      "cell_type": "markdown",
      "source": [
        "18. In what situations are lists preferred over dictionaries ?"
      ],
      "metadata": {
        "id": "Z2tKEVdaCoNH"
      }
    },
    {
      "cell_type": "markdown",
      "source": [
        "> Situations where lists are preferred over dictionaries\n",
        "\n",
        ">> 1. Order matters : When you need to preserve and work with the sequence of elements.\n",
        "\n",
        ">>2. No key-value mapping needed : When you only care about storing values, not associating them with unique keys.\n",
        "\n",
        ">>3. Allow duplicates : When you need to store the same value multiple times.\n",
        "\n",
        ">>4. Index-based access : When elements are best accessed by their position (index) rather than by a key.\n",
        "\n",
        ">>5. Small datasets : For small collections where the speed benefit of a dictionary is negligible.\n",
        "\n",
        ">>6. Iteration over values : When you want to loop through elements directly without worrying about keys"
      ],
      "metadata": {
        "id": "0n91a5K0CpsV"
      }
    },
    {
      "cell_type": "code",
      "source": [
        " fruits = [\"apple\", \"banana\", \"orange\", \"banana\"]\n",
        "print(fruits[2])"
      ],
      "metadata": {
        "colab": {
          "base_uri": "https://localhost:8080/"
        },
        "id": "z47xAPCXC4Rj",
        "outputId": "89590dd1-00f1-43a5-b643-188f6e378e2a"
      },
      "execution_count": 10,
      "outputs": [
        {
          "output_type": "stream",
          "name": "stdout",
          "text": [
            "orange\n"
          ]
        }
      ]
    },
    {
      "cell_type": "markdown",
      "source": [
        "19. Why are dictionaries considered unordered, and how does that affect data retrieval ?"
      ],
      "metadata": {
        "id": "B-wXYpnUC6O7"
      }
    },
    {
      "cell_type": "markdown",
      "source": [
        " >Dictionaries are considered unordered\n",
        "\n",
        " >>1. Before Python 3.7, dictionaries did not guarantee that elements would be stored or iterated in the order they were\n",
        " inserted\n",
        "\n",
        " >> 2. This is because dictionaries are implemented using a hash table, where the storage location of each key-value pair\n",
        " depends on the key’s hash value, not its position\n",
        "\n",
        " > Effect on data retrieval\n",
        "\n",
        " >> 1. Key-based retrieval is unaffected we can always access a value directly using its key in O(1) time, regardless of order.\n",
        "\n",
        " >> 2. However, iteration order was unpredictable in older versions of Python, meaning looping over a dictionary could produce\n",
        " elements in any sequence.\n",
        "\n",
        " >> 3. From Python 3.7+, insertion order is preserved as an implementation detail but retrieval by key is still independent of\n",
        " order"
      ],
      "metadata": {
        "id": "sMXNN5roC9Rm"
      }
    },
    {
      "cell_type": "markdown",
      "source": [
        " 20. Explain the difference between a list and a dictionary in terms of data retrieval."
      ],
      "metadata": {
        "id": "Tb04TsSIDUf9"
      }
    },
    {
      "cell_type": "markdown",
      "source": [
        ">Difference between a list and a dictionary in terms of data retrieval\n",
        "\n",
        "> 1. List : Retrieval is index-based\n",
        "\n",
        ">>We access elements using their position (0, 1, 2, …).\n",
        "\n",
        ">>Time complexity: O(1) for direct index access, but O(n) if you search for a value\n",
        "\n"
      ],
      "metadata": {
        "id": "decoA-UWDVfI"
      }
    },
    {
      "cell_type": "code",
      "source": [
        " fruits = [\"apple\", \"banana\", \"cherry\"]\n",
        " print(fruits[1])"
      ],
      "metadata": {
        "colab": {
          "base_uri": "https://localhost:8080/"
        },
        "id": "-EOtXJA4Dsrn",
        "outputId": "8fed1ab2-77f8-4a80-af8c-a447e0ad36e5"
      },
      "execution_count": null,
      "outputs": [
        {
          "output_type": "stream",
          "name": "stdout",
          "text": [
            "banana\n"
          ]
        }
      ]
    },
    {
      "cell_type": "markdown",
      "source": [
        "> 2. Dictionary : Retrieval is key-based\n",
        "\n",
        ">>We access values using unique keys, not positions.\n",
        "\n",
        ">>Time complexity: O(1) on average because of hashing."
      ],
      "metadata": {
        "id": "uiIwCorzDx5k"
      }
    },
    {
      "cell_type": "code",
      "source": [
        " person = {\"name\": \"Devansh\", \"age\": 21}\n",
        " print(person[\"age\"])"
      ],
      "metadata": {
        "colab": {
          "base_uri": "https://localhost:8080/"
        },
        "id": "Z4rpAfctD7KY",
        "outputId": "6542fc54-e156-4d56-cdf4-1883897e2577"
      },
      "execution_count": 11,
      "outputs": [
        {
          "output_type": "stream",
          "name": "stdout",
          "text": [
            "21\n"
          ]
        }
      ]
    },
    {
      "cell_type": "markdown",
      "source": [
        "Practical Question"
      ],
      "metadata": {
        "id": "Mwrq3HXnD9cE"
      }
    },
    {
      "cell_type": "markdown",
      "source": [
        "- Question 1- Write a code to create a string with your name and print it"
      ],
      "metadata": {
        "id": "jGOFbCqxECL5"
      }
    },
    {
      "cell_type": "code",
      "source": [
        " name=input(\"Enter your name \")\n",
        " print(f\"My name is {name}\")"
      ],
      "metadata": {
        "colab": {
          "base_uri": "https://localhost:8080/"
        },
        "id": "jdgxThruEGCw",
        "outputId": "3257fd2f-1ae9-4f30-9a2f-5b9102467ed2"
      },
      "execution_count": null,
      "outputs": [
        {
          "output_type": "stream",
          "name": "stdout",
          "text": [
            "Enter your name Devansh Sidana\n",
            "My name is Devansh Sidana\n"
          ]
        }
      ]
    },
    {
      "cell_type": "markdown",
      "source": [
        "- Question 2- Write a code to find the length of the string \"Hello World\""
      ],
      "metadata": {
        "id": "knlkRbaHET7G"
      }
    },
    {
      "cell_type": "code",
      "source": [
        " string=\"Hello World\"\n",
        " length=len(string)\n",
        " print(\"Length of string is :\",length)"
      ],
      "metadata": {
        "colab": {
          "base_uri": "https://localhost:8080/"
        },
        "id": "V3BePWjWEUpm",
        "outputId": "17ef9b28-d2b3-44fe-e89d-b052c6bcadaf"
      },
      "execution_count": null,
      "outputs": [
        {
          "output_type": "stream",
          "name": "stdout",
          "text": [
            "Length of string is : 11\n"
          ]
        }
      ]
    },
    {
      "cell_type": "markdown",
      "source": [
        "- Question 3- Write a code to slice the first 3 characters from the string \"Python Programming\""
      ],
      "metadata": {
        "id": "3RyCVnSeEdqX"
      }
    },
    {
      "cell_type": "code",
      "source": [
        " string=\"Python Programming\"\n",
        " print(\"String after slicing first 3 character :\",string[3:])"
      ],
      "metadata": {
        "colab": {
          "base_uri": "https://localhost:8080/"
        },
        "id": "zpvKvCmfEejF",
        "outputId": "030cd2b1-a83d-4aa7-eca2-a1437937d8db"
      },
      "execution_count": 13,
      "outputs": [
        {
          "output_type": "stream",
          "name": "stdout",
          "text": [
            "String after slicing first 3 character : hon Programming\n"
          ]
        }
      ]
    },
    {
      "cell_type": "markdown",
      "source": [
        "- Question 4- Write a code to convert the string \"hello\" to uppercase"
      ],
      "metadata": {
        "id": "YMV6O3_vEoD4"
      }
    },
    {
      "cell_type": "code",
      "source": [
        "string=\"hello\"\n",
        "print(\"String in uppercase\",string.upper())"
      ],
      "metadata": {
        "colab": {
          "base_uri": "https://localhost:8080/"
        },
        "id": "TsTcLNHwEqHr",
        "outputId": "9ec468bf-b041-4532-b119-18bdad950e93"
      },
      "execution_count": 14,
      "outputs": [
        {
          "output_type": "stream",
          "name": "stdout",
          "text": [
            "String in uppercase HELLO\n"
          ]
        }
      ]
    },
    {
      "cell_type": "markdown",
      "source": [
        "- Question 5- Write a code to replace the word \"apple\" with \"orange\" in the string \"I like apple\""
      ],
      "metadata": {
        "id": "naSq9hK_Evlu"
      }
    },
    {
      "cell_type": "code",
      "source": [
        " string=\"I like apple \"\n",
        " new_string=string.replace(\"apple\",\"orange\") #revplacing the word apple --->orange\n",
        "print(\"String before replacement :\",string)\n",
        "print(\"String after replacemnt: \",new_string)"
      ],
      "metadata": {
        "colab": {
          "base_uri": "https://localhost:8080/"
        },
        "id": "VaZMfJjXE0qN",
        "outputId": "c8e71b34-84ca-4995-a54d-d17f7c2b797a"
      },
      "execution_count": null,
      "outputs": [
        {
          "output_type": "stream",
          "name": "stdout",
          "text": [
            "String before replacement : I like apple \n",
            "String after replacemnt:  I like orange \n"
          ]
        }
      ]
    },
    {
      "cell_type": "markdown",
      "source": [
        "- Question 6- Write a code to create a list with numbers 1 to 5 and print it"
      ],
      "metadata": {
        "id": "eo2N9diNE_mR"
      }
    },
    {
      "cell_type": "code",
      "source": [
        "list=[] #empty list\n",
        "for i in range(1,6):\n",
        "  list.append(i) #appending elements\n",
        "print(\"List with number 1 to 5\",list)"
      ],
      "metadata": {
        "colab": {
          "base_uri": "https://localhost:8080/"
        },
        "id": "IbRAkuAhFFQ8",
        "outputId": "76b76552-ec05-47af-cfbd-c637703a3166"
      },
      "execution_count": 15,
      "outputs": [
        {
          "output_type": "stream",
          "name": "stdout",
          "text": [
            "List with number 1 to 5 [1, 2, 3, 4, 5]\n"
          ]
        }
      ]
    },
    {
      "cell_type": "markdown",
      "source": [
        "- Question 7- Write a code to append the number 10 to the list [1, 2, 3, 4]\n"
      ],
      "metadata": {
        "id": "vYMpUQuLpJP1"
      }
    },
    {
      "cell_type": "code",
      "source": [
        " list=[1,2,3,4]\n",
        " print(\"List before appending 10 : \",list)\n",
        " list.append(10) #adding 10 to list\n",
        " print(\"List after appending 10 : \" ,list)"
      ],
      "metadata": {
        "colab": {
          "base_uri": "https://localhost:8080/"
        },
        "id": "QgjS5Jwip76h",
        "outputId": "04d16057-885b-41b0-b72a-e1a06ad8d264"
      },
      "execution_count": null,
      "outputs": [
        {
          "output_type": "stream",
          "name": "stdout",
          "text": [
            "List before appending 10 :  [1, 2, 3, 4]\n",
            "List after appending 10 :  [1, 2, 3, 4, 10]\n"
          ]
        }
      ]
    },
    {
      "cell_type": "markdown",
      "source": [
        "- Question 8- Write a code to remove the number 3 from the list [1, 2, 3, 4, 5]"
      ],
      "metadata": {
        "id": "PQpgG7ngp-Vb"
      }
    },
    {
      "cell_type": "code",
      "source": [
        "list=[1,2,3,4,5]\n",
        "print(\"List before removing 3 : \",list)\n",
        "list.remove(3) #remove 3 from list\n",
        "print(\"List after removing 3 : \" ,list)"
      ],
      "metadata": {
        "colab": {
          "base_uri": "https://localhost:8080/"
        },
        "id": "jMOyzyf_qAMe",
        "outputId": "32b7ea4d-5672-485f-fbeb-858a371a3168"
      },
      "execution_count": null,
      "outputs": [
        {
          "output_type": "stream",
          "name": "stdout",
          "text": [
            "List before removing 3 :  [1, 2, 3, 4, 5]\n",
            "List after removing 3 :  [1, 2, 4, 5]\n"
          ]
        }
      ]
    },
    {
      "cell_type": "markdown",
      "source": [
        "- Question 9- Write a code to access the second element in the list ['a', 'b', 'c', 'd']"
      ],
      "metadata": {
        "id": "8jP0uZ0tqOlL"
      }
    },
    {
      "cell_type": "code",
      "source": [
        " list=['a', 'b', 'c', 'd']\n",
        " '''acessing second element of list the indexing of list starts with 0 . Therefore element at index 1 is second elemnt of list '''\n",
        " second_element=list[1]\n",
        " print(\"The second element in the list :\",second_element)"
      ],
      "metadata": {
        "colab": {
          "base_uri": "https://localhost:8080/"
        },
        "id": "Euvf-3I9qPY5",
        "outputId": "f1ca1a68-1920-4e9e-cbc0-83d6929c7554"
      },
      "execution_count": 16,
      "outputs": [
        {
          "output_type": "stream",
          "name": "stdout",
          "text": [
            "The second element in the list : b\n"
          ]
        }
      ]
    },
    {
      "cell_type": "markdown",
      "source": [
        "- Question 10-  Write a code to reverse the list [10, 20, 30, 40, 50]"
      ],
      "metadata": {
        "id": "OnCs7djUqVTg"
      }
    },
    {
      "cell_type": "code",
      "source": [
        " list=[10, 20, 30, 40, 50]\n",
        " print(\"Orginal List\",list)\n",
        " print()\n",
        " #revrse inbuiltfunction\n",
        " list.reverse()\n",
        " print(\"Reversed list by reverse function \",list)\n",
        " print()\n",
        " orginal_list=[10, 20, 30, 40, 50]\n",
        " print(\"Reversed list by slicing\",orginal_list[::-1])"
      ],
      "metadata": {
        "colab": {
          "base_uri": "https://localhost:8080/"
        },
        "id": "kyA78KhPqWy2",
        "outputId": "b7fe498e-1768-4eb3-f8bd-962a90a6edf0"
      },
      "execution_count": null,
      "outputs": [
        {
          "output_type": "stream",
          "name": "stdout",
          "text": [
            "Orginal List [10, 20, 30, 40, 50]\n",
            "\n",
            "Reversed list by reverse function  [50, 40, 30, 20, 10]\n",
            "\n",
            "Reversed list by slicing [50, 40, 30, 20, 10]\n"
          ]
        }
      ]
    },
    {
      "cell_type": "markdown",
      "source": [
        "- Question 11- Write a code to create a tuple with the elements 100, 200, 300 and print it"
      ],
      "metadata": {
        "id": "a3Sy11ZkqbJV"
      }
    },
    {
      "cell_type": "code",
      "source": [
        " tuple=(100, 200, 300 )\n",
        " print(\"Tuple :\",tuple)"
      ],
      "metadata": {
        "colab": {
          "base_uri": "https://localhost:8080/"
        },
        "id": "P4iV4K2aqfwT",
        "outputId": "938c6994-690a-4bba-b658-f746d86b0ff0"
      },
      "execution_count": null,
      "outputs": [
        {
          "output_type": "stream",
          "name": "stdout",
          "text": [
            "Tuple : (100, 200, 300)\n"
          ]
        }
      ]
    },
    {
      "cell_type": "markdown",
      "source": [
        "- Question 12- Write a code to access the second-to-last element of the tuple ('red', 'green', 'blue', 'yellow')"
      ],
      "metadata": {
        "id": "ckJ4ZMhsqjTx"
      }
    },
    {
      "cell_type": "code",
      "source": [
        "tuple=('red', 'green', 'blue', 'yellow')\n",
        "'''acessing second-to-last element of tuple the indexing of list starts with -1 from last . Therefore element at index -2 access the sec'''\n",
        "print(\"Accessing second-to-last element of tuple : \",tuple[-2])"
      ],
      "metadata": {
        "colab": {
          "base_uri": "https://localhost:8080/"
        },
        "id": "ldw42JTAqf2S",
        "outputId": "aafff5b8-1caa-4e90-c649-425140b184b7"
      },
      "execution_count": null,
      "outputs": [
        {
          "output_type": "stream",
          "name": "stdout",
          "text": [
            "Accessing second-to-last element of tuple :  blue\n"
          ]
        }
      ]
    },
    {
      "cell_type": "markdown",
      "source": [
        "- Question 13- Write a code to find the minimum number in the tuple (10, 20, 5, 15)"
      ],
      "metadata": {
        "id": "w3lxKX2Fr15B"
      }
    },
    {
      "cell_type": "code",
      "source": [
        " tuple=(10, 20, 5, 15)\n",
        " print(\"Minimum value in the tuple :\",min(tuple)) # min inbuilt functio"
      ],
      "metadata": {
        "colab": {
          "base_uri": "https://localhost:8080/"
        },
        "id": "HhnYHz-Er6we",
        "outputId": "5a62dd04-120e-4f70-bb1c-717545d9fa2c"
      },
      "execution_count": null,
      "outputs": [
        {
          "output_type": "stream",
          "name": "stdout",
          "text": [
            "Minimum value in the tuple : 5\n"
          ]
        }
      ]
    },
    {
      "cell_type": "markdown",
      "source": [
        "- Question 14- Write a code to find the index of the element \"cat\" in the tuple ('dog', 'cat', 'rabbit')"
      ],
      "metadata": {
        "id": "8EWJrSLtr84k"
      }
    },
    {
      "cell_type": "code",
      "source": [
        " tuple=('dog', 'cat', 'rabbit')\n",
        " print(\"index of the cat :\",tuple.index(\"cat\")) #index fetch the index of elements"
      ],
      "metadata": {
        "colab": {
          "base_uri": "https://localhost:8080/"
        },
        "id": "yMjEmve8r-hD",
        "outputId": "2d61f0f1-68e7-46c2-956a-9b7bcb70b10f"
      },
      "execution_count": null,
      "outputs": [
        {
          "output_type": "stream",
          "name": "stdout",
          "text": [
            "index of the cat : 1\n"
          ]
        }
      ]
    },
    {
      "cell_type": "markdown",
      "source": [
        "- Question 15- Write a code to create a tuple containing three different fruits and check if \"kiwi\" is in it"
      ],
      "metadata": {
        "id": "f3vRP_vBsCvS"
      }
    },
    {
      "cell_type": "code",
      "source": [
        " tuple1 = (\"banana\" , \"peaches\", \"apple\")\n",
        " tuple2= (\"buleberry\" , \"kiwi\", \"grapes\" )\n",
        " result1= \"kiwi\" in tuple1\n",
        " result2= \"kiwi\" in tuple2\n",
        " print(\"Tuple1 contain kiwi :\",result1)\n",
        " print(\"Tuple2 contain kiwi :\",result2)"
      ],
      "metadata": {
        "colab": {
          "base_uri": "https://localhost:8080/"
        },
        "id": "LK9gCaVpsFpF",
        "outputId": "1354371a-413a-4293-a6d1-973f098df1ea"
      },
      "execution_count": null,
      "outputs": [
        {
          "output_type": "stream",
          "name": "stdout",
          "text": [
            "Tuple1 contain kiwi : False\n",
            "Tuple2 contain kiwi : True\n"
          ]
        }
      ]
    },
    {
      "cell_type": "markdown",
      "source": [
        "- Question 16-  Write a code to create a set with the elements 'a', 'b', 'c' and print it"
      ],
      "metadata": {
        "id": "HtxVS8VqsJ2p"
      }
    },
    {
      "cell_type": "code",
      "source": [
        " set={\"a\",\"b\",\"c\"}\n",
        " print(\"Set\",set)"
      ],
      "metadata": {
        "colab": {
          "base_uri": "https://localhost:8080/"
        },
        "id": "inNoSlfdsNeS",
        "outputId": "7856af54-629b-4108-9e6a-59a0c1789fd3"
      },
      "execution_count": 17,
      "outputs": [
        {
          "output_type": "stream",
          "name": "stdout",
          "text": [
            "Set {'b', 'a', 'c'}\n"
          ]
        }
      ]
    },
    {
      "cell_type": "markdown",
      "source": [
        "- Question 17- Write a code to clear all elements from the set {1, 2, 3, 4, 5}"
      ],
      "metadata": {
        "id": "OZZMM-96sUiR"
      }
    },
    {
      "cell_type": "code",
      "source": [
        " set={1, 2, 3, 4, 5}\n",
        " print(\"Before clearing the set: \" ,set)\n",
        " #clear it empty the set\n",
        " set=set.clear()\n",
        " print(\"After clearing the set: \",set)"
      ],
      "metadata": {
        "colab": {
          "base_uri": "https://localhost:8080/"
        },
        "id": "Fwya6xlusWTg",
        "outputId": "cb7ffd4b-8f08-4722-824a-1aef0ec0578f"
      },
      "execution_count": null,
      "outputs": [
        {
          "output_type": "stream",
          "name": "stdout",
          "text": [
            "Before clearing the set:  {1, 2, 3, 4, 5}\n",
            "After clearing the set:  None\n"
          ]
        }
      ]
    },
    {
      "cell_type": "markdown",
      "source": [
        "- Question 18-  Write a code to remove the element 4 from the set {1, 2, 3, 4}."
      ],
      "metadata": {
        "id": "1lbqVq89sahN"
      }
    },
    {
      "cell_type": "code",
      "source": [
        " my_set = {1, 2, 3, 4}\n",
        " print(\"Before removing 4 from the set:\", my_set)\n",
        " # remove the element\n",
        " my_set.remove(4)\n",
        " print(\"After removing 4 from the set:\", my_set)"
      ],
      "metadata": {
        "colab": {
          "base_uri": "https://localhost:8080/"
        },
        "id": "03V0KOONscjD",
        "outputId": "3a7462e2-9130-41c2-ba73-6d4fafbf62b2"
      },
      "execution_count": null,
      "outputs": [
        {
          "output_type": "stream",
          "name": "stdout",
          "text": [
            "Before removing 4 from the set: {1, 2, 3, 4}\n",
            "After removing 4 from the set: {1, 2, 3}\n"
          ]
        }
      ]
    },
    {
      "cell_type": "markdown",
      "source": [
        "- Question 19- Write a code to find the union of two sets {1, 2, 3} and {3, 4, 5}"
      ],
      "metadata": {
        "id": "btTJ1Kjisfqq"
      }
    },
    {
      "cell_type": "code",
      "source": [
        "set1={1, 2, 3}\n",
        "set2={3, 4, 5}\n",
        " #using union function  returns unquie element of set\n",
        "print(\"Union of set with union fuction :\",set1.union(set2))\n",
        " # union with \"| \"\n",
        "print(\"Union of set with '|':\",set1|set2)"
      ],
      "metadata": {
        "colab": {
          "base_uri": "https://localhost:8080/"
        },
        "id": "rgilKA04shHT",
        "outputId": "add13a35-8486-42b7-f553-472a6dd66e6a"
      },
      "execution_count": null,
      "outputs": [
        {
          "output_type": "stream",
          "name": "stdout",
          "text": [
            "Union of set with union fuction : {1, 2, 3, 4, 5}\n",
            "Union of set with '|': {1, 2, 3, 4, 5}\n"
          ]
        }
      ]
    },
    {
      "cell_type": "markdown",
      "source": [
        " - Question 20-  Write a code to find the intersection of two sets {1, 2, 3} and {2, 3, 4}"
      ],
      "metadata": {
        "id": "pkfJdQwZswbd"
      }
    },
    {
      "cell_type": "code",
      "source": [
        " set1={1, 2, 3}\n",
        " set2={2, 3, 4}\n",
        " #using intersection function  returns common element of set\n",
        " print(\"Intersection of set with intersection function :\",set1.intersection(set2))\n",
        " # Intersection with \"& \"\n",
        " print(\"Intersection of set with '&' :\",set1&set2)"
      ],
      "metadata": {
        "colab": {
          "base_uri": "https://localhost:8080/"
        },
        "id": "A3Tm7Biys1C_",
        "outputId": "a57776d4-54ff-4908-9ebb-9b839258d96d"
      },
      "execution_count": null,
      "outputs": [
        {
          "output_type": "stream",
          "name": "stdout",
          "text": [
            "Intersection of set with intersection function : {2, 3}\n",
            "Intersection of set with '&' : {2, 3}\n"
          ]
        }
      ]
    },
    {
      "cell_type": "markdown",
      "source": [
        " - Question 21-  Write a code to create a dictionary with the keys \"name\", \"age\", and \"city\", and print it"
      ],
      "metadata": {
        "id": "IPQTnfFks5Ua"
      }
    },
    {
      "cell_type": "code",
      "source": [
        " my_dictionary={\"name\":\"Devansh\",\"age\":\"21\",\"city\":\"Rudrapur\"}\n",
        " print(\"Dictionary :\",my_dictionary)"
      ],
      "metadata": {
        "colab": {
          "base_uri": "https://localhost:8080/"
        },
        "id": "gvVEf1pGs7HI",
        "outputId": "13272182-cb4f-4f7b-cf04-59df608e7ecb"
      },
      "execution_count": 12,
      "outputs": [
        {
          "output_type": "stream",
          "name": "stdout",
          "text": [
            "Dictionary : {'name': 'Devansh', 'age': '21', 'city': 'Rudrapur'}\n"
          ]
        }
      ]
    },
    {
      "cell_type": "markdown",
      "source": [
        "- Question 22- Write a code to add a new key-value pair \"country\": \"USA\" to the dictionary {'name': 'John', 'age': 25}"
      ],
      "metadata": {
        "id": "jsBqdpNgs_AI"
      }
    },
    {
      "cell_type": "code",
      "source": [
        " my_dictionary={'name': 'John', 'age': 25}\n",
        " print(\"Dictionary before adding new key-value pair :\",my_dictionary)\n",
        " my_dictionary[\"country\"] = \"USA\" #adding element\n",
        " print(\"Dictionary after adding new key-value pair :\",my_dictionary)"
      ],
      "metadata": {
        "colab": {
          "base_uri": "https://localhost:8080/"
        },
        "id": "1ir2wSPqtAxU",
        "outputId": "56842a58-7932-4b55-800f-9e5d2079016e"
      },
      "execution_count": null,
      "outputs": [
        {
          "output_type": "stream",
          "name": "stdout",
          "text": [
            "Dictionary before adding new key-value pair : {'name': 'John', 'age': 25}\n",
            "Dictionary after adding new key-value pair : {'name': 'John', 'age': 25, 'country': 'USA'}\n"
          ]
        }
      ]
    },
    {
      "cell_type": "markdown",
      "source": [
        "- Question 23- Write a code to access the value associated with the key \"name\" in the dictionary {'name': 'Alice', 'age': 30}"
      ],
      "metadata": {
        "id": "8zpMTU2ttECC"
      }
    },
    {
      "cell_type": "code",
      "source": [
        " my_dictionary={'name': 'Alice', 'age': 30}\n",
        " print(\"The value associated with keyword name :\",my_dictionary.get(\"name\")) #accessing the value associated with the key \"name\""
      ],
      "metadata": {
        "colab": {
          "base_uri": "https://localhost:8080/"
        },
        "id": "hSvF7kRvtITg",
        "outputId": "d7b8c479-2874-4c13-fbe7-651145db6515"
      },
      "execution_count": null,
      "outputs": [
        {
          "output_type": "stream",
          "name": "stdout",
          "text": [
            "The value associated with keyword name : Alice\n"
          ]
        }
      ]
    },
    {
      "cell_type": "markdown",
      "source": [
        "- Question 24- Write a code to remove the key \"age\" from the dictionary {'name': 'Bob', 'age': 22, 'city': 'New York'}"
      ],
      "metadata": {
        "id": "LG5Bzs0xtPaF"
      }
    },
    {
      "cell_type": "code",
      "source": [
        " my_dict={'name': 'Bob', 'age': 22, 'city': 'New York'}\n",
        " print(\"Before removing age :\",my_dict)\n",
        " # removing age\n",
        " my_dict.pop(\"age\")\n",
        " print(\"After removing age :\",my_dict)"
      ],
      "metadata": {
        "colab": {
          "base_uri": "https://localhost:8080/"
        },
        "id": "x7KK62gxtWYy",
        "outputId": "d089f012-6607-4fae-9b44-e8bd3e92ac46"
      },
      "execution_count": null,
      "outputs": [
        {
          "output_type": "stream",
          "name": "stdout",
          "text": [
            "Before removing age : {'name': 'Bob', 'age': 22, 'city': 'New York'}\n",
            "After removing age : {'name': 'Bob', 'city': 'New York'}\n"
          ]
        }
      ]
    },
    {
      "cell_type": "markdown",
      "source": [
        "- Question 25- Write a code to check if the key \"city\" exists in the dictionary {'name': 'Alice', 'city': 'Paris'}."
      ],
      "metadata": {
        "id": "neh6H-qatY79"
      }
    },
    {
      "cell_type": "code",
      "source": [
        "my_dict={'name': 'Alice', 'city': 'Paris'}\n",
        "if \"city\" in my_dict.keys():\n",
        "  print(\"Dictionary contain city\")\n",
        "else:\n",
        "    print(\"False\")"
      ],
      "metadata": {
        "colab": {
          "base_uri": "https://localhost:8080/"
        },
        "id": "4JzyqN2VtbXv",
        "outputId": "4fe715c9-afe7-429b-e8c9-a1f06707876e"
      },
      "execution_count": null,
      "outputs": [
        {
          "output_type": "stream",
          "name": "stdout",
          "text": [
            "Dictionary contain city\n"
          ]
        }
      ]
    },
    {
      "cell_type": "markdown",
      "source": [
        "- Question 26- Write a code to create a list, a tuple, and a dictionary, and print them all"
      ],
      "metadata": {
        "id": "ygC8rvByuBSx"
      }
    },
    {
      "cell_type": "code",
      "source": [
        " my_list=[1,2,4,\"hello\",False,True]\n",
        " my_tuple=(5,3,6)\n",
        " my_dict={'name': 'Alice', 'city': 'Paris'}\n",
        " print(f\"my_list :{my_list} and type is {type(my_list)}\")\n",
        " print()\n",
        " print(f\"my_tuple :{my_tuple} and type is {type(my_tuple)}\")\n",
        " print()\n",
        " print(f\"my dict :{my_dict} and type is {type(my_dict)}\")"
      ],
      "metadata": {
        "colab": {
          "base_uri": "https://localhost:8080/"
        },
        "id": "Zo6AmCAhuG9F",
        "outputId": "e53a9920-5fa5-4d3c-9c2e-d8129a069d4d"
      },
      "execution_count": 18,
      "outputs": [
        {
          "output_type": "stream",
          "name": "stdout",
          "text": [
            "my_list :[1, 2, 4, 'hello', False, True] and type is <class 'list'>\n",
            "\n",
            "my_tuple :(5, 3, 6) and type is <class 'tuple'>\n",
            "\n",
            "my dict :{'name': 'Alice', 'city': 'Paris'} and type is <class 'dict'>\n"
          ]
        }
      ]
    },
    {
      "cell_type": "markdown",
      "source": [
        "- Question 27- Write a code to create a list of 5 random numbers between 1 and 100, sort it in ascending order, and print the result .(replaced)"
      ],
      "metadata": {
        "id": "EvznaAAduaQ2"
      }
    },
    {
      "cell_type": "code",
      "source": [
        " import random\n",
        " # List with random 5 numbers\n",
        " random_numbers = random.sample(range(1, 101), 5)\n",
        " print(\"list before sorting :\",random_numbers)\n",
        " # sort function sort the list in ascending order\n",
        " random_numbers.sort()\n",
        " print(\"Sorted random numbers:\", random_numbers)"
      ],
      "metadata": {
        "colab": {
          "base_uri": "https://localhost:8080/"
        },
        "id": "88rHzsbdufv4",
        "outputId": "802210a4-f871-47bd-9949-83bc15733b98"
      },
      "execution_count": null,
      "outputs": [
        {
          "output_type": "stream",
          "name": "stdout",
          "text": [
            "list before sorting : [63, 55, 43, 25, 36]\n",
            "Sorted random numbers: [25, 36, 43, 55, 63]\n"
          ]
        }
      ]
    },
    {
      "cell_type": "markdown",
      "source": [
        "- Question 28- Write a code to create a list with strings and print the element at the third index"
      ],
      "metadata": {
        "id": "80cHsfI3uojQ"
      }
    },
    {
      "cell_type": "code",
      "source": [
        " my_list = [\"apple\", \"banana\", \"cherry\", \"date\", \"blueberry\"]\n",
        " print(\"Element at index 3:\", my_list[3])"
      ],
      "metadata": {
        "colab": {
          "base_uri": "https://localhost:8080/"
        },
        "id": "ecP3NWLfuVd_",
        "outputId": "4f6f3014-5780-41b9-96be-1a6c428be796"
      },
      "execution_count": null,
      "outputs": [
        {
          "output_type": "stream",
          "name": "stdout",
          "text": [
            "Element at index 3: date\n"
          ]
        }
      ]
    },
    {
      "cell_type": "markdown",
      "source": [
        " - Question 29- Write a code to combine two dictionaries into one and print the result"
      ],
      "metadata": {
        "id": "VpD40i6RurSx"
      }
    },
    {
      "cell_type": "code",
      "source": [
        " dict1={'name': 'Alice', 'city': 'Paris'}\n",
        " dict2 ={'age':24,'gender':'Male'}\n",
        " print(\"Dict 1 : \",dict1)\n",
        " print(\"Dict 2 : \",dict2)\n",
        " print()\n",
        " # update function extend or combine the list\n",
        " dict1.update(dict2)\n",
        " print(\"Dictionary 1 after combing both dictionary :\" , dict1)"
      ],
      "metadata": {
        "colab": {
          "base_uri": "https://localhost:8080/"
        },
        "id": "CZGyu8_uutGj",
        "outputId": "4aecb9a3-baa4-47cb-d0e2-730c7d0e9edb"
      },
      "execution_count": null,
      "outputs": [
        {
          "output_type": "stream",
          "name": "stdout",
          "text": [
            "Dict 1 :  {'name': 'Alice', 'city': 'Paris'}\n",
            "Dict 2 :  {'age': 24, 'gender': 'Male'}\n",
            "\n",
            "Dictionary 1 after combing both dictionary : {'name': 'Alice', 'city': 'Paris', 'age': 24, 'gender': 'Male'}\n"
          ]
        }
      ]
    },
    {
      "cell_type": "markdown",
      "source": [
        "- Question 30- Write a code to convert a list of strings into a set."
      ],
      "metadata": {
        "id": "_2qED4_5uxDT"
      }
    },
    {
      "cell_type": "code",
      "source": [
        "import builtins\n",
        "\n",
        "my_list=[\"Ajay\",\"Samiksha\",\"David\",\"name\" ,\"name\",\"Samiksha\"]\n",
        "my_set=builtins.set(my_list)\n",
        "\n",
        "print(\"List :\",my_list)\n",
        "print()\n",
        "print(\"List after converted into set\",my_set)"
      ],
      "metadata": {
        "colab": {
          "base_uri": "https://localhost:8080/"
        },
        "id": "XQkvw0Guuzig",
        "outputId": "d230cada-a127-404f-b338-7018ac96f7bb"
      },
      "execution_count": null,
      "outputs": [
        {
          "output_type": "stream",
          "name": "stdout",
          "text": [
            "List : ['Ajay', 'Samiksha', 'David', 'name', 'name', 'Samiksha']\n",
            "\n",
            "List after converted into set {'David', 'Samiksha', 'name', 'Ajay'}\n"
          ]
        }
      ]
    }
  ]
}